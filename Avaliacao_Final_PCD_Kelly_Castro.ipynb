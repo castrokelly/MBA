{
  "cells": [
    {
      "cell_type": "markdown",
      "metadata": {
        "id": "view-in-github",
        "colab_type": "text"
      },
      "source": [
        "<a href=\"https://colab.research.google.com/github/castrokelly/MBA/blob/main/Avaliacao_Final_PCD_Kelly_Castro.ipynb\" target=\"_parent\"><img src=\"https://colab.research.google.com/assets/colab-badge.svg\" alt=\"Open In Colab\"/></a>"
      ]
    },
    {
      "cell_type": "markdown",
      "metadata": {
        "id": "J8GTZLJKW8NM"
      },
      "source": [
        "# <font color=\"blue\"> MBA em Ciência de Dados</font>\n",
        "# <font color=\"blue\">Programação para Ciência de Dados</font>\n",
        "\n",
        "## <font color=\"blue\">Avaliação Final</font>\n",
        "**Material Produzido por Luis Gustavo Nonato**<br>\n",
        "**Cemeai - ICMC/USP São Carlos**"
      ]
    },
    {
      "cell_type": "markdown",
      "metadata": {
        "id": "6JtnmfsXW8NQ"
      },
      "source": [
        "<font color='red'>**ATENÇÃO:** Quando terminar o exame, você deve fazer um \"upload\" do notebook no _moodle_</font>."
      ]
    },
    {
      "cell_type": "markdown",
      "metadata": {
        "id": "oYN_e30yW8NR"
      },
      "source": [
        "Para responder as questões abaixo será necessário fazer uso do arquivo <font style=\"font-family: monaco\">emendas_p2023.csv</font> disponível para download no _moodle_. O arquivo contém dados sobre emendas parlamentares apresentadas em 2023. Dentre as colunas do conjunto de dados, as que serão relevantes para esta avaliação são:\n",
        "- **Tipo de Emenda**: tipo de emenda\n",
        "- **Autor da emenda**: parlamentar autor da emenda\n",
        "- **Localidade do gasto**: localidade para onde o valor foi enviado\n",
        "- **Numero da emenda**: número associado a emenda para controle interno\n",
        "- **Valor empenhado**: valor empenhado mas não necessariamente pago\n",
        "- **Valor pago**: valor realmente pago"
      ]
    },
    {
      "cell_type": "code",
      "execution_count": 50,
      "metadata": {
        "id": "-ttEnUQ7W8NS"
      },
      "outputs": [],
      "source": [
        "import numpy as np\n",
        "import pandas as pd"
      ]
    },
    {
      "cell_type": "markdown",
      "metadata": {
        "id": "AMpOTE-NW8NU"
      },
      "source": [
        "### Questão 1 (2 pontos)\n",
        "Considerando os dados contidos no arquivo <font style=\"font-family: monaco\">emendas_p2023.csv</font>:\n"
      ]
    },
    {
      "cell_type": "markdown",
      "metadata": {
        "id": "BoYW-PkdW8NU"
      },
      "source": [
        "#### a) (1 ponto)\n",
        "Carregue o arquivo <font style=\"font-family: monaco\">emendas_p2023.csv</font> e armazena em um DataFrame. Imprima as 10 primeiras linhas do DataFrame e os rótulos das colunas."
      ]
    },
    {
      "cell_type": "code",
      "source": [
        "from google.colab import drive\n",
        "drive.mount('/content/drive/')"
      ],
      "metadata": {
        "colab": {
          "base_uri": "https://localhost:8080/"
        },
        "id": "A4mT8mU73Ny8",
        "outputId": "4a932d81-ccb2-4221-b4cf-48746bf52336"
      },
      "execution_count": 51,
      "outputs": [
        {
          "output_type": "stream",
          "name": "stdout",
          "text": [
            "Drive already mounted at /content/drive/; to attempt to forcibly remount, call drive.mount(\"/content/drive/\", force_remount=True).\n"
          ]
        }
      ]
    },
    {
      "cell_type": "code",
      "execution_count": 52,
      "metadata": {
        "colab": {
          "base_uri": "https://localhost:8080/",
          "height": 993
        },
        "id": "bXgEkYFXW8NV",
        "outputId": "699648e3-7858-4155-954f-a1823956ace8"
      },
      "outputs": [
        {
          "output_type": "stream",
          "name": "stdout",
          "text": [
            "Os rótulos das colunas são: Index(['Ano', 'Tipo de Emenda', 'Autor da emenda', 'Numero da emenda',\n",
            "       'Localidade do gasto', 'Funcao', 'Subfuncao', 'Programa Orcamentario',\n",
            "       'Acao Orcamentaria', 'Plano Orcamentario', 'Codigo da emenda',\n",
            "       'Valor empenhado', 'Valor pago'],\n",
            "      dtype='object')\n"
          ]
        },
        {
          "output_type": "execute_result",
          "data": {
            "text/plain": [
              "    Ano                                     Tipo de Emenda  \\\n",
              "0  2023  Emenda Individual - Transferências com Finalid...   \n",
              "1  2023  Emenda Individual - Transferências com Finalid...   \n",
              "2  2023  Emenda Individual - Transferências com Finalid...   \n",
              "3  2023  Emenda Individual - Transferências com Finalid...   \n",
              "4  2023  Emenda Individual - Transferências com Finalid...   \n",
              "5  2023  Emenda Individual - Transferências com Finalid...   \n",
              "6  2023                                 Emenda de Comissão   \n",
              "7  2023                                 Emenda de Comissão   \n",
              "8  2023  Emenda Individual - Transferências com Finalid...   \n",
              "9  2023  Emenda Individual - Transferências com Finalid...   \n",
              "\n",
              "                   Autor da emenda  Numero da emenda  Localidade do gasto  \\\n",
              "0                         ZE VITOR                 7    MINAS GERAIS (UF)   \n",
              "1                            IRAJA                 5       TOCANTINS (UF)   \n",
              "2                      MARIA ROSAS                 9       SÃO PAULO (UF)   \n",
              "3                        LUIZ LIMA                 9  RIO DE JANEIRO (UF)   \n",
              "4                    TADEU ALENCAR                 4      PERNAMBUCO (UF)   \n",
              "5                      JUNIOR MANO                 6           CEARÁ (UF)   \n",
              "6        COM. DEFESA DO CONSUMIDOR                 3             Nacional   \n",
              "7  COM. CONST. JUSTICA E CIDADANIA                 4             Nacional   \n",
              "8                   HUMBERTO COSTA                11      PERNAMBUCO (UF)   \n",
              "9                   HUMBERTO COSTA                13      PERNAMBUCO (UF)   \n",
              "\n",
              "                  Funcao                                  Subfuncao  \\\n",
              "0  Direitos da cidadania  Direitos individuais, coletivos e difusos   \n",
              "1  Direitos da cidadania  Direitos individuais, coletivos e difusos   \n",
              "2  Direitos da cidadania  Direitos individuais, coletivos e difusos   \n",
              "3  Direitos da cidadania  Direitos individuais, coletivos e difusos   \n",
              "4                  Saúde      Assistência hospitalar e ambulatorial   \n",
              "5                  Saúde                             Atenção básica   \n",
              "6  Direitos da cidadania  Direitos individuais, coletivos e difusos   \n",
              "7  Direitos da cidadania  Direitos individuais, coletivos e difusos   \n",
              "8               Educação                        Ensino profissional   \n",
              "9               Educação                        Ensino profissional   \n",
              "\n",
              "                               Programa Orcamentario  \\\n",
              "0  5034 - PROTECAO A VIDA, FORTALECIMENTO DA FAMI...   \n",
              "1  5034 - PROTECAO A VIDA, FORTALECIMENTO DA FAMI...   \n",
              "2  5034 - PROTECAO A VIDA, FORTALECIMENTO DA FAMI...   \n",
              "3  5034 - PROTECAO A VIDA, FORTALECIMENTO DA FAMI...   \n",
              "4               5018 - ATENCAO ESPECIALIZADA A SAUDE   \n",
              "5                    5019 - ATENCAO PRIMARIA A SAUDE   \n",
              "6                                     5015 - JUSTICA   \n",
              "7                                     5015 - JUSTICA   \n",
              "8         5012 - EDUCACAO PROFISSIONAL E TECNOLOGICA   \n",
              "9         5012 - EDUCACAO PROFISSIONAL E TECNOLOGICA   \n",
              "\n",
              "                                   Acao Orcamentaria  \\\n",
              "0  21AR - PROMOCAO E DEFESA DE DIREITOS HUMANOS P...   \n",
              "1  21AR - PROMOCAO E DEFESA DE DIREITOS HUMANOS P...   \n",
              "2  21AR - PROMOCAO E DEFESA DE DIREITOS HUMANOS P...   \n",
              "3  21AR - PROMOCAO E DEFESA DE DIREITOS HUMANOS P...   \n",
              "4  8535 - ESTRUTURACAO DE UNIDADES DE ATENCAO ESP...   \n",
              "5  8581 - ESTRUTURACAO DA REDE DE SERVICOS DE ATE...   \n",
              "6             2334 - PROTECAO E DEFESA DO CONSUMIDOR   \n",
              "7             2334 - PROTECAO E DEFESA DO CONSUMIDOR   \n",
              "8  21B3 - FOMENTO AS ACOES DE ENSINO, PESQUISA, E...   \n",
              "9  20RL - FUNCIONAMENTO DAS INSTITUICOES DA REDE ...   \n",
              "\n",
              "                                  Plano Orcamentario  Codigo da emenda  \\\n",
              "0  PROMOCAO E DEFESA DE DIREITOS HUMANOS PARA TOD...      202340770007   \n",
              "1  PROMOCAO E DEFESA DE DIREITOS HUMANOS PARA TOD...      202340960005   \n",
              "2  PROMOCAO E DEFESA DE DIREITOS HUMANOS PARA TOD...      202341190009   \n",
              "3  PROMOCAO E DEFESA DE DIREITOS HUMANOS PARA TOD...      202341580009   \n",
              "4  ESTRUTURACAO DE UNIDADES DE ATENCAO ESPECIALIZ...      202337670004   \n",
              "5  ESTRUTURACAO DA REDE DE SERVICOS DE ATENCAO PR...      202340280006   \n",
              "6  PROTECAO E DEFESA DO CONSUMIDOR - DESPESAS DIV...      202350130003   \n",
              "7  PROTECAO E DEFESA DO CONSUMIDOR - DESPESAS DIV...      202360030004   \n",
              "8  FOMENTO AS ACOES DE ENSINO, PESQUISA, EXTENSAO...      202328850011   \n",
              "9  FUNCIONAMENTO DAS INSTITUICOES DA REDE FEDERAL...      202328850013   \n",
              "\n",
              "   Valor empenhado  Valor pago  \n",
              "0       2443813.00        0.00  \n",
              "1       2000000.00        0.00  \n",
              "2        620791.00        0.00  \n",
              "3        300000.00        0.00  \n",
              "4          6467.00     6467.00  \n",
              "5         24570.00    24570.00  \n",
              "6         25000.00        0.00  \n",
              "7         25000.00        0.00  \n",
              "8         37672.90        0.00  \n",
              "9         38997.44     9871.44  "
            ],
            "text/html": [
              "\n",
              "  <div id=\"df-ac17a31e-0af2-43b4-bfb9-dada05772ba6\" class=\"colab-df-container\">\n",
              "    <div>\n",
              "<style scoped>\n",
              "    .dataframe tbody tr th:only-of-type {\n",
              "        vertical-align: middle;\n",
              "    }\n",
              "\n",
              "    .dataframe tbody tr th {\n",
              "        vertical-align: top;\n",
              "    }\n",
              "\n",
              "    .dataframe thead th {\n",
              "        text-align: right;\n",
              "    }\n",
              "</style>\n",
              "<table border=\"1\" class=\"dataframe\">\n",
              "  <thead>\n",
              "    <tr style=\"text-align: right;\">\n",
              "      <th></th>\n",
              "      <th>Ano</th>\n",
              "      <th>Tipo de Emenda</th>\n",
              "      <th>Autor da emenda</th>\n",
              "      <th>Numero da emenda</th>\n",
              "      <th>Localidade do gasto</th>\n",
              "      <th>Funcao</th>\n",
              "      <th>Subfuncao</th>\n",
              "      <th>Programa Orcamentario</th>\n",
              "      <th>Acao Orcamentaria</th>\n",
              "      <th>Plano Orcamentario</th>\n",
              "      <th>Codigo da emenda</th>\n",
              "      <th>Valor empenhado</th>\n",
              "      <th>Valor pago</th>\n",
              "    </tr>\n",
              "  </thead>\n",
              "  <tbody>\n",
              "    <tr>\n",
              "      <th>0</th>\n",
              "      <td>2023</td>\n",
              "      <td>Emenda Individual - Transferências com Finalid...</td>\n",
              "      <td>ZE VITOR</td>\n",
              "      <td>7</td>\n",
              "      <td>MINAS GERAIS (UF)</td>\n",
              "      <td>Direitos da cidadania</td>\n",
              "      <td>Direitos individuais, coletivos e difusos</td>\n",
              "      <td>5034 - PROTECAO A VIDA, FORTALECIMENTO DA FAMI...</td>\n",
              "      <td>21AR - PROMOCAO E DEFESA DE DIREITOS HUMANOS P...</td>\n",
              "      <td>PROMOCAO E DEFESA DE DIREITOS HUMANOS PARA TOD...</td>\n",
              "      <td>202340770007</td>\n",
              "      <td>2443813.00</td>\n",
              "      <td>0.00</td>\n",
              "    </tr>\n",
              "    <tr>\n",
              "      <th>1</th>\n",
              "      <td>2023</td>\n",
              "      <td>Emenda Individual - Transferências com Finalid...</td>\n",
              "      <td>IRAJA</td>\n",
              "      <td>5</td>\n",
              "      <td>TOCANTINS (UF)</td>\n",
              "      <td>Direitos da cidadania</td>\n",
              "      <td>Direitos individuais, coletivos e difusos</td>\n",
              "      <td>5034 - PROTECAO A VIDA, FORTALECIMENTO DA FAMI...</td>\n",
              "      <td>21AR - PROMOCAO E DEFESA DE DIREITOS HUMANOS P...</td>\n",
              "      <td>PROMOCAO E DEFESA DE DIREITOS HUMANOS PARA TOD...</td>\n",
              "      <td>202340960005</td>\n",
              "      <td>2000000.00</td>\n",
              "      <td>0.00</td>\n",
              "    </tr>\n",
              "    <tr>\n",
              "      <th>2</th>\n",
              "      <td>2023</td>\n",
              "      <td>Emenda Individual - Transferências com Finalid...</td>\n",
              "      <td>MARIA ROSAS</td>\n",
              "      <td>9</td>\n",
              "      <td>SÃO PAULO (UF)</td>\n",
              "      <td>Direitos da cidadania</td>\n",
              "      <td>Direitos individuais, coletivos e difusos</td>\n",
              "      <td>5034 - PROTECAO A VIDA, FORTALECIMENTO DA FAMI...</td>\n",
              "      <td>21AR - PROMOCAO E DEFESA DE DIREITOS HUMANOS P...</td>\n",
              "      <td>PROMOCAO E DEFESA DE DIREITOS HUMANOS PARA TOD...</td>\n",
              "      <td>202341190009</td>\n",
              "      <td>620791.00</td>\n",
              "      <td>0.00</td>\n",
              "    </tr>\n",
              "    <tr>\n",
              "      <th>3</th>\n",
              "      <td>2023</td>\n",
              "      <td>Emenda Individual - Transferências com Finalid...</td>\n",
              "      <td>LUIZ LIMA</td>\n",
              "      <td>9</td>\n",
              "      <td>RIO DE JANEIRO (UF)</td>\n",
              "      <td>Direitos da cidadania</td>\n",
              "      <td>Direitos individuais, coletivos e difusos</td>\n",
              "      <td>5034 - PROTECAO A VIDA, FORTALECIMENTO DA FAMI...</td>\n",
              "      <td>21AR - PROMOCAO E DEFESA DE DIREITOS HUMANOS P...</td>\n",
              "      <td>PROMOCAO E DEFESA DE DIREITOS HUMANOS PARA TOD...</td>\n",
              "      <td>202341580009</td>\n",
              "      <td>300000.00</td>\n",
              "      <td>0.00</td>\n",
              "    </tr>\n",
              "    <tr>\n",
              "      <th>4</th>\n",
              "      <td>2023</td>\n",
              "      <td>Emenda Individual - Transferências com Finalid...</td>\n",
              "      <td>TADEU ALENCAR</td>\n",
              "      <td>4</td>\n",
              "      <td>PERNAMBUCO (UF)</td>\n",
              "      <td>Saúde</td>\n",
              "      <td>Assistência hospitalar e ambulatorial</td>\n",
              "      <td>5018 - ATENCAO ESPECIALIZADA A SAUDE</td>\n",
              "      <td>8535 - ESTRUTURACAO DE UNIDADES DE ATENCAO ESP...</td>\n",
              "      <td>ESTRUTURACAO DE UNIDADES DE ATENCAO ESPECIALIZ...</td>\n",
              "      <td>202337670004</td>\n",
              "      <td>6467.00</td>\n",
              "      <td>6467.00</td>\n",
              "    </tr>\n",
              "    <tr>\n",
              "      <th>5</th>\n",
              "      <td>2023</td>\n",
              "      <td>Emenda Individual - Transferências com Finalid...</td>\n",
              "      <td>JUNIOR MANO</td>\n",
              "      <td>6</td>\n",
              "      <td>CEARÁ (UF)</td>\n",
              "      <td>Saúde</td>\n",
              "      <td>Atenção básica</td>\n",
              "      <td>5019 - ATENCAO PRIMARIA A SAUDE</td>\n",
              "      <td>8581 - ESTRUTURACAO DA REDE DE SERVICOS DE ATE...</td>\n",
              "      <td>ESTRUTURACAO DA REDE DE SERVICOS DE ATENCAO PR...</td>\n",
              "      <td>202340280006</td>\n",
              "      <td>24570.00</td>\n",
              "      <td>24570.00</td>\n",
              "    </tr>\n",
              "    <tr>\n",
              "      <th>6</th>\n",
              "      <td>2023</td>\n",
              "      <td>Emenda de Comissão</td>\n",
              "      <td>COM. DEFESA DO CONSUMIDOR</td>\n",
              "      <td>3</td>\n",
              "      <td>Nacional</td>\n",
              "      <td>Direitos da cidadania</td>\n",
              "      <td>Direitos individuais, coletivos e difusos</td>\n",
              "      <td>5015 - JUSTICA</td>\n",
              "      <td>2334 - PROTECAO E DEFESA DO CONSUMIDOR</td>\n",
              "      <td>PROTECAO E DEFESA DO CONSUMIDOR - DESPESAS DIV...</td>\n",
              "      <td>202350130003</td>\n",
              "      <td>25000.00</td>\n",
              "      <td>0.00</td>\n",
              "    </tr>\n",
              "    <tr>\n",
              "      <th>7</th>\n",
              "      <td>2023</td>\n",
              "      <td>Emenda de Comissão</td>\n",
              "      <td>COM. CONST. JUSTICA E CIDADANIA</td>\n",
              "      <td>4</td>\n",
              "      <td>Nacional</td>\n",
              "      <td>Direitos da cidadania</td>\n",
              "      <td>Direitos individuais, coletivos e difusos</td>\n",
              "      <td>5015 - JUSTICA</td>\n",
              "      <td>2334 - PROTECAO E DEFESA DO CONSUMIDOR</td>\n",
              "      <td>PROTECAO E DEFESA DO CONSUMIDOR - DESPESAS DIV...</td>\n",
              "      <td>202360030004</td>\n",
              "      <td>25000.00</td>\n",
              "      <td>0.00</td>\n",
              "    </tr>\n",
              "    <tr>\n",
              "      <th>8</th>\n",
              "      <td>2023</td>\n",
              "      <td>Emenda Individual - Transferências com Finalid...</td>\n",
              "      <td>HUMBERTO COSTA</td>\n",
              "      <td>11</td>\n",
              "      <td>PERNAMBUCO (UF)</td>\n",
              "      <td>Educação</td>\n",
              "      <td>Ensino profissional</td>\n",
              "      <td>5012 - EDUCACAO PROFISSIONAL E TECNOLOGICA</td>\n",
              "      <td>21B3 - FOMENTO AS ACOES DE ENSINO, PESQUISA, E...</td>\n",
              "      <td>FOMENTO AS ACOES DE ENSINO, PESQUISA, EXTENSAO...</td>\n",
              "      <td>202328850011</td>\n",
              "      <td>37672.90</td>\n",
              "      <td>0.00</td>\n",
              "    </tr>\n",
              "    <tr>\n",
              "      <th>9</th>\n",
              "      <td>2023</td>\n",
              "      <td>Emenda Individual - Transferências com Finalid...</td>\n",
              "      <td>HUMBERTO COSTA</td>\n",
              "      <td>13</td>\n",
              "      <td>PERNAMBUCO (UF)</td>\n",
              "      <td>Educação</td>\n",
              "      <td>Ensino profissional</td>\n",
              "      <td>5012 - EDUCACAO PROFISSIONAL E TECNOLOGICA</td>\n",
              "      <td>20RL - FUNCIONAMENTO DAS INSTITUICOES DA REDE ...</td>\n",
              "      <td>FUNCIONAMENTO DAS INSTITUICOES DA REDE FEDERAL...</td>\n",
              "      <td>202328850013</td>\n",
              "      <td>38997.44</td>\n",
              "      <td>9871.44</td>\n",
              "    </tr>\n",
              "  </tbody>\n",
              "</table>\n",
              "</div>\n",
              "    <div class=\"colab-df-buttons\">\n",
              "\n",
              "  <div class=\"colab-df-container\">\n",
              "    <button class=\"colab-df-convert\" onclick=\"convertToInteractive('df-ac17a31e-0af2-43b4-bfb9-dada05772ba6')\"\n",
              "            title=\"Convert this dataframe to an interactive table.\"\n",
              "            style=\"display:none;\">\n",
              "\n",
              "  <svg xmlns=\"http://www.w3.org/2000/svg\" height=\"24px\" viewBox=\"0 -960 960 960\">\n",
              "    <path d=\"M120-120v-720h720v720H120Zm60-500h600v-160H180v160Zm220 220h160v-160H400v160Zm0 220h160v-160H400v160ZM180-400h160v-160H180v160Zm440 0h160v-160H620v160ZM180-180h160v-160H180v160Zm440 0h160v-160H620v160Z\"/>\n",
              "  </svg>\n",
              "    </button>\n",
              "\n",
              "  <style>\n",
              "    .colab-df-container {\n",
              "      display:flex;\n",
              "      gap: 12px;\n",
              "    }\n",
              "\n",
              "    .colab-df-convert {\n",
              "      background-color: #E8F0FE;\n",
              "      border: none;\n",
              "      border-radius: 50%;\n",
              "      cursor: pointer;\n",
              "      display: none;\n",
              "      fill: #1967D2;\n",
              "      height: 32px;\n",
              "      padding: 0 0 0 0;\n",
              "      width: 32px;\n",
              "    }\n",
              "\n",
              "    .colab-df-convert:hover {\n",
              "      background-color: #E2EBFA;\n",
              "      box-shadow: 0px 1px 2px rgba(60, 64, 67, 0.3), 0px 1px 3px 1px rgba(60, 64, 67, 0.15);\n",
              "      fill: #174EA6;\n",
              "    }\n",
              "\n",
              "    .colab-df-buttons div {\n",
              "      margin-bottom: 4px;\n",
              "    }\n",
              "\n",
              "    [theme=dark] .colab-df-convert {\n",
              "      background-color: #3B4455;\n",
              "      fill: #D2E3FC;\n",
              "    }\n",
              "\n",
              "    [theme=dark] .colab-df-convert:hover {\n",
              "      background-color: #434B5C;\n",
              "      box-shadow: 0px 1px 3px 1px rgba(0, 0, 0, 0.15);\n",
              "      filter: drop-shadow(0px 1px 2px rgba(0, 0, 0, 0.3));\n",
              "      fill: #FFFFFF;\n",
              "    }\n",
              "  </style>\n",
              "\n",
              "    <script>\n",
              "      const buttonEl =\n",
              "        document.querySelector('#df-ac17a31e-0af2-43b4-bfb9-dada05772ba6 button.colab-df-convert');\n",
              "      buttonEl.style.display =\n",
              "        google.colab.kernel.accessAllowed ? 'block' : 'none';\n",
              "\n",
              "      async function convertToInteractive(key) {\n",
              "        const element = document.querySelector('#df-ac17a31e-0af2-43b4-bfb9-dada05772ba6');\n",
              "        const dataTable =\n",
              "          await google.colab.kernel.invokeFunction('convertToInteractive',\n",
              "                                                    [key], {});\n",
              "        if (!dataTable) return;\n",
              "\n",
              "        const docLinkHtml = 'Like what you see? Visit the ' +\n",
              "          '<a target=\"_blank\" href=https://colab.research.google.com/notebooks/data_table.ipynb>data table notebook</a>'\n",
              "          + ' to learn more about interactive tables.';\n",
              "        element.innerHTML = '';\n",
              "        dataTable['output_type'] = 'display_data';\n",
              "        await google.colab.output.renderOutput(dataTable, element);\n",
              "        const docLink = document.createElement('div');\n",
              "        docLink.innerHTML = docLinkHtml;\n",
              "        element.appendChild(docLink);\n",
              "      }\n",
              "    </script>\n",
              "  </div>\n",
              "\n",
              "\n",
              "<div id=\"df-d3b01310-b655-4a65-8109-97b40dd73581\">\n",
              "  <button class=\"colab-df-quickchart\" onclick=\"quickchart('df-d3b01310-b655-4a65-8109-97b40dd73581')\"\n",
              "            title=\"Suggest charts\"\n",
              "            style=\"display:none;\">\n",
              "\n",
              "<svg xmlns=\"http://www.w3.org/2000/svg\" height=\"24px\"viewBox=\"0 0 24 24\"\n",
              "     width=\"24px\">\n",
              "    <g>\n",
              "        <path d=\"M19 3H5c-1.1 0-2 .9-2 2v14c0 1.1.9 2 2 2h14c1.1 0 2-.9 2-2V5c0-1.1-.9-2-2-2zM9 17H7v-7h2v7zm4 0h-2V7h2v10zm4 0h-2v-4h2v4z\"/>\n",
              "    </g>\n",
              "</svg>\n",
              "  </button>\n",
              "\n",
              "<style>\n",
              "  .colab-df-quickchart {\n",
              "      --bg-color: #E8F0FE;\n",
              "      --fill-color: #1967D2;\n",
              "      --hover-bg-color: #E2EBFA;\n",
              "      --hover-fill-color: #174EA6;\n",
              "      --disabled-fill-color: #AAA;\n",
              "      --disabled-bg-color: #DDD;\n",
              "  }\n",
              "\n",
              "  [theme=dark] .colab-df-quickchart {\n",
              "      --bg-color: #3B4455;\n",
              "      --fill-color: #D2E3FC;\n",
              "      --hover-bg-color: #434B5C;\n",
              "      --hover-fill-color: #FFFFFF;\n",
              "      --disabled-bg-color: #3B4455;\n",
              "      --disabled-fill-color: #666;\n",
              "  }\n",
              "\n",
              "  .colab-df-quickchart {\n",
              "    background-color: var(--bg-color);\n",
              "    border: none;\n",
              "    border-radius: 50%;\n",
              "    cursor: pointer;\n",
              "    display: none;\n",
              "    fill: var(--fill-color);\n",
              "    height: 32px;\n",
              "    padding: 0;\n",
              "    width: 32px;\n",
              "  }\n",
              "\n",
              "  .colab-df-quickchart:hover {\n",
              "    background-color: var(--hover-bg-color);\n",
              "    box-shadow: 0 1px 2px rgba(60, 64, 67, 0.3), 0 1px 3px 1px rgba(60, 64, 67, 0.15);\n",
              "    fill: var(--button-hover-fill-color);\n",
              "  }\n",
              "\n",
              "  .colab-df-quickchart-complete:disabled,\n",
              "  .colab-df-quickchart-complete:disabled:hover {\n",
              "    background-color: var(--disabled-bg-color);\n",
              "    fill: var(--disabled-fill-color);\n",
              "    box-shadow: none;\n",
              "  }\n",
              "\n",
              "  .colab-df-spinner {\n",
              "    border: 2px solid var(--fill-color);\n",
              "    border-color: transparent;\n",
              "    border-bottom-color: var(--fill-color);\n",
              "    animation:\n",
              "      spin 1s steps(1) infinite;\n",
              "  }\n",
              "\n",
              "  @keyframes spin {\n",
              "    0% {\n",
              "      border-color: transparent;\n",
              "      border-bottom-color: var(--fill-color);\n",
              "      border-left-color: var(--fill-color);\n",
              "    }\n",
              "    20% {\n",
              "      border-color: transparent;\n",
              "      border-left-color: var(--fill-color);\n",
              "      border-top-color: var(--fill-color);\n",
              "    }\n",
              "    30% {\n",
              "      border-color: transparent;\n",
              "      border-left-color: var(--fill-color);\n",
              "      border-top-color: var(--fill-color);\n",
              "      border-right-color: var(--fill-color);\n",
              "    }\n",
              "    40% {\n",
              "      border-color: transparent;\n",
              "      border-right-color: var(--fill-color);\n",
              "      border-top-color: var(--fill-color);\n",
              "    }\n",
              "    60% {\n",
              "      border-color: transparent;\n",
              "      border-right-color: var(--fill-color);\n",
              "    }\n",
              "    80% {\n",
              "      border-color: transparent;\n",
              "      border-right-color: var(--fill-color);\n",
              "      border-bottom-color: var(--fill-color);\n",
              "    }\n",
              "    90% {\n",
              "      border-color: transparent;\n",
              "      border-bottom-color: var(--fill-color);\n",
              "    }\n",
              "  }\n",
              "</style>\n",
              "\n",
              "  <script>\n",
              "    async function quickchart(key) {\n",
              "      const quickchartButtonEl =\n",
              "        document.querySelector('#' + key + ' button');\n",
              "      quickchartButtonEl.disabled = true;  // To prevent multiple clicks.\n",
              "      quickchartButtonEl.classList.add('colab-df-spinner');\n",
              "      try {\n",
              "        const charts = await google.colab.kernel.invokeFunction(\n",
              "            'suggestCharts', [key], {});\n",
              "      } catch (error) {\n",
              "        console.error('Error during call to suggestCharts:', error);\n",
              "      }\n",
              "      quickchartButtonEl.classList.remove('colab-df-spinner');\n",
              "      quickchartButtonEl.classList.add('colab-df-quickchart-complete');\n",
              "    }\n",
              "    (() => {\n",
              "      let quickchartButtonEl =\n",
              "        document.querySelector('#df-d3b01310-b655-4a65-8109-97b40dd73581 button');\n",
              "      quickchartButtonEl.style.display =\n",
              "        google.colab.kernel.accessAllowed ? 'block' : 'none';\n",
              "    })();\n",
              "  </script>\n",
              "</div>\n",
              "\n",
              "  <div id=\"id_52099e5f-0547-4a0b-8461-e9adbb6fd5a6\">\n",
              "    <style>\n",
              "      .colab-df-generate {\n",
              "        background-color: #E8F0FE;\n",
              "        border: none;\n",
              "        border-radius: 50%;\n",
              "        cursor: pointer;\n",
              "        display: none;\n",
              "        fill: #1967D2;\n",
              "        height: 32px;\n",
              "        padding: 0 0 0 0;\n",
              "        width: 32px;\n",
              "      }\n",
              "\n",
              "      .colab-df-generate:hover {\n",
              "        background-color: #E2EBFA;\n",
              "        box-shadow: 0px 1px 2px rgba(60, 64, 67, 0.3), 0px 1px 3px 1px rgba(60, 64, 67, 0.15);\n",
              "        fill: #174EA6;\n",
              "      }\n",
              "\n",
              "      [theme=dark] .colab-df-generate {\n",
              "        background-color: #3B4455;\n",
              "        fill: #D2E3FC;\n",
              "      }\n",
              "\n",
              "      [theme=dark] .colab-df-generate:hover {\n",
              "        background-color: #434B5C;\n",
              "        box-shadow: 0px 1px 3px 1px rgba(0, 0, 0, 0.15);\n",
              "        filter: drop-shadow(0px 1px 2px rgba(0, 0, 0, 0.3));\n",
              "        fill: #FFFFFF;\n",
              "      }\n",
              "    </style>\n",
              "    <button class=\"colab-df-generate\" onclick=\"generateWithVariable('primeiras_linhas')\"\n",
              "            title=\"Generate code using this dataframe.\"\n",
              "            style=\"display:none;\">\n",
              "\n",
              "  <svg xmlns=\"http://www.w3.org/2000/svg\" height=\"24px\"viewBox=\"0 0 24 24\"\n",
              "       width=\"24px\">\n",
              "    <path d=\"M7,19H8.4L18.45,9,17,7.55,7,17.6ZM5,21V16.75L18.45,3.32a2,2,0,0,1,2.83,0l1.4,1.43a1.91,1.91,0,0,1,.58,1.4,1.91,1.91,0,0,1-.58,1.4L9.25,21ZM18.45,9,17,7.55Zm-12,3A5.31,5.31,0,0,0,4.9,8.1,5.31,5.31,0,0,0,1,6.5,5.31,5.31,0,0,0,4.9,4.9,5.31,5.31,0,0,0,6.5,1,5.31,5.31,0,0,0,8.1,4.9,5.31,5.31,0,0,0,12,6.5,5.46,5.46,0,0,0,6.5,12Z\"/>\n",
              "  </svg>\n",
              "    </button>\n",
              "    <script>\n",
              "      (() => {\n",
              "      const buttonEl =\n",
              "        document.querySelector('#id_52099e5f-0547-4a0b-8461-e9adbb6fd5a6 button.colab-df-generate');\n",
              "      buttonEl.style.display =\n",
              "        google.colab.kernel.accessAllowed ? 'block' : 'none';\n",
              "\n",
              "      buttonEl.onclick = () => {\n",
              "        google.colab.notebook.generateWithVariable('primeiras_linhas');\n",
              "      }\n",
              "      })();\n",
              "    </script>\n",
              "  </div>\n",
              "\n",
              "    </div>\n",
              "  </div>\n"
            ],
            "application/vnd.google.colaboratory.intrinsic+json": {
              "type": "dataframe",
              "variable_name": "primeiras_linhas",
              "summary": "{\n  \"name\": \"primeiras_linhas\",\n  \"rows\": 10,\n  \"fields\": [\n    {\n      \"column\": \"Ano\",\n      \"properties\": {\n        \"dtype\": \"number\",\n        \"std\": 0,\n        \"min\": 2023,\n        \"max\": 2023,\n        \"num_unique_values\": 1,\n        \"samples\": [\n          2023\n        ],\n        \"semantic_type\": \"\",\n        \"description\": \"\"\n      }\n    },\n    {\n      \"column\": \"Tipo de Emenda\",\n      \"properties\": {\n        \"dtype\": \"category\",\n        \"num_unique_values\": 2,\n        \"samples\": [\n          \"Emenda de Comiss\\u00e3o\"\n        ],\n        \"semantic_type\": \"\",\n        \"description\": \"\"\n      }\n    },\n    {\n      \"column\": \"Autor da emenda\",\n      \"properties\": {\n        \"dtype\": \"string\",\n        \"num_unique_values\": 9,\n        \"samples\": [\n          \"COM. CONST. JUSTICA E CIDADANIA\"\n        ],\n        \"semantic_type\": \"\",\n        \"description\": \"\"\n      }\n    },\n    {\n      \"column\": \"Numero da emenda\",\n      \"properties\": {\n        \"dtype\": \"number\",\n        \"std\": 3,\n        \"min\": 3,\n        \"max\": 13,\n        \"num_unique_values\": 8,\n        \"samples\": [\n          5\n        ],\n        \"semantic_type\": \"\",\n        \"description\": \"\"\n      }\n    },\n    {\n      \"column\": \"Localidade do gasto\",\n      \"properties\": {\n        \"dtype\": \"string\",\n        \"num_unique_values\": 7,\n        \"samples\": [\n          \"MINAS GERAIS (UF)\"\n        ],\n        \"semantic_type\": \"\",\n        \"description\": \"\"\n      }\n    },\n    {\n      \"column\": \"Funcao\",\n      \"properties\": {\n        \"dtype\": \"category\",\n        \"num_unique_values\": 3,\n        \"samples\": [\n          \"Direitos da cidadania\"\n        ],\n        \"semantic_type\": \"\",\n        \"description\": \"\"\n      }\n    },\n    {\n      \"column\": \"Subfuncao\",\n      \"properties\": {\n        \"dtype\": \"category\",\n        \"num_unique_values\": 4,\n        \"samples\": [\n          \"Assist\\u00eancia hospitalar e ambulatorial\"\n        ],\n        \"semantic_type\": \"\",\n        \"description\": \"\"\n      }\n    },\n    {\n      \"column\": \"Programa Orcamentario\",\n      \"properties\": {\n        \"dtype\": \"string\",\n        \"num_unique_values\": 5,\n        \"samples\": [\n          \"5018 - ATENCAO ESPECIALIZADA A SAUDE\"\n        ],\n        \"semantic_type\": \"\",\n        \"description\": \"\"\n      }\n    },\n    {\n      \"column\": \"Acao Orcamentaria\",\n      \"properties\": {\n        \"dtype\": \"string\",\n        \"num_unique_values\": 6,\n        \"samples\": [\n          \"21AR - PROMOCAO E DEFESA DE DIREITOS HUMANOS PARA TODOS\"\n        ],\n        \"semantic_type\": \"\",\n        \"description\": \"\"\n      }\n    },\n    {\n      \"column\": \"Plano Orcamentario\",\n      \"properties\": {\n        \"dtype\": \"string\",\n        \"num_unique_values\": 6,\n        \"samples\": [\n          \"PROMOCAO E DEFESA DE DIREITOS HUMANOS PARA TODOS - DESPESAS DIVERSAS\"\n        ],\n        \"semantic_type\": \"\",\n        \"description\": \"\"\n      }\n    },\n    {\n      \"column\": \"Codigo da emenda\",\n      \"properties\": {\n        \"dtype\": \"number\",\n        \"std\": 9145533,\n        \"min\": 202328850011,\n        \"max\": 202360030004,\n        \"num_unique_values\": 10,\n        \"samples\": [\n          202328850011\n        ],\n        \"semantic_type\": \"\",\n        \"description\": \"\"\n      }\n    },\n    {\n      \"column\": \"Valor empenhado\",\n      \"properties\": {\n        \"dtype\": \"number\",\n        \"std\": 906939.0979045153,\n        \"min\": 6467.0,\n        \"max\": 2443813.0,\n        \"num_unique_values\": 9,\n        \"samples\": [\n          37672.9\n        ],\n        \"semantic_type\": \"\",\n        \"description\": \"\"\n      }\n    },\n    {\n      \"column\": \"Valor pago\",\n      \"properties\": {\n        \"dtype\": \"number\",\n        \"std\": 7997.237511584443,\n        \"min\": 0.0,\n        \"max\": 24570.0,\n        \"num_unique_values\": 4,\n        \"samples\": [\n          6467.0\n        ],\n        \"semantic_type\": \"\",\n        \"description\": \"\"\n      }\n    }\n  ]\n}"
            }
          },
          "metadata": {},
          "execution_count": 52
        }
      ],
      "source": [
        "emendas_df = pd.read_csv('/content/drive/MyDrive/Colab Notebooks/emendas_p2023.csv')\n",
        "\n",
        "# Imprimindo as 10 primeiras linhas do DataFrame e os rótulos das colunas\n",
        "rotulos_colunas = emendas_df.columns\n",
        "primeiras_linhas = emendas_df.head(10)\n",
        "\n",
        "print(f\"Os rótulos das colunas são: {rotulos_colunas}\")\n",
        "primeiras_linhas"
      ]
    },
    {
      "cell_type": "markdown",
      "metadata": {
        "id": "YP8nMRHpW8NV"
      },
      "source": [
        "#### c) (1 ponto)\n",
        "A coluna _'Numero da emenda'_ correponde a um código de controle interno do parlamento, sem utilidade para as analises que serão feitas a seguir, portanto deve ser eliminada. Elimine a coluna _'Numero da emenda'_ do DataFrame."
      ]
    },
    {
      "cell_type": "code",
      "execution_count": 53,
      "metadata": {
        "id": "UoXCQfoGW8NV"
      },
      "outputs": [],
      "source": [
        "emendas_df = emendas_df.drop(columns=['Numero da emenda'])"
      ]
    },
    {
      "cell_type": "markdown",
      "metadata": {
        "id": "N1LfCU3vW8NW"
      },
      "source": [
        "### Questão 2 (2 pontos)\n",
        "Verifique quantos tipos de emendas diferentes exitem na base (coluna _'Tipo de Emenda'_) e aponte qual o tipo de emenda que mais aparece na base."
      ]
    },
    {
      "cell_type": "code",
      "execution_count": 61,
      "metadata": {
        "colab": {
          "base_uri": "https://localhost:8080/"
        },
        "id": "CHBqraxZW8NW",
        "outputId": "13d88271-192b-44a0-c3b0-bff73efda3f5"
      },
      "outputs": [
        {
          "output_type": "stream",
          "name": "stdout",
          "text": [
            "Existem 4 tipos de emendas diferentes.\n",
            "Emenda Individual - Transferências com Finalidade Definida - Tipo de emenda mais comum\n",
            "4533 - Quantidade de ocorrências do tipo mais comum\n"
          ]
        }
      ],
      "source": [
        "emendas_tipos = emendas_df['Tipo de Emenda'].value_counts()\n",
        "\n",
        "print(f\"Existem {len(emendas_tipos)} tipos de emendas diferentes.\")\n",
        "\n",
        "mais_comum = emendas_tipos.idxmax()\n",
        "quantidade_mais_comum = emendas_tipos.max()\n",
        "\n",
        "print(f\"{mais_comum} - Tipo de emenda mais comum\")\n",
        "print(f\"{quantidade_mais_comum} - Quantidade de ocorrências do tipo mais comum\")"
      ]
    },
    {
      "cell_type": "markdown",
      "metadata": {
        "id": "htqJz9aMW8NX"
      },
      "source": [
        "### Questão 3 (3 pontos)\n",
        "#### a) (1 ponto)\n",
        "\n",
        "Encontre os três parlamentares (coluna _'Autor da emenda'_) que apresentaram o maior número de emendas em 2023."
      ]
    },
    {
      "cell_type": "code",
      "execution_count": 63,
      "metadata": {
        "colab": {
          "base_uri": "https://localhost:8080/"
        },
        "id": "V0CqgFqyW8NX",
        "outputId": "4426e0c4-0080-4e47-a947-90cd632caaa3"
      },
      "outputs": [
        {
          "output_type": "stream",
          "name": "stdout",
          "text": [
            "Os três parlamentares com os maiores números de emendas em 2023 foram:\n",
            "FLAVIO BOLSONARO    34\n",
            "MAJOR VITOR HUGO    29\n",
            "CELSO MALDANER      25\n",
            "Name: Autor da emenda, dtype: int64\n"
          ]
        }
      ],
      "source": [
        "emendas_parlamentar = emendas_df['Autor da emenda'].value_counts()\n",
        "parlamentares_mais_emendas = emendas_parlamentar.sort_values(ascending=False)\n",
        "top_3_parlamentares = parlamentares_mais_emendas.head(3)\n",
        "print(\"Os três parlamentares com os maiores números de emendas em 2023 foram:\")\n",
        "print(top_3_parlamentares)"
      ]
    },
    {
      "cell_type": "markdown",
      "metadata": {
        "id": "Krz8pB4aW8NY"
      },
      "source": [
        "#### b) (2 pontos)\n",
        "\n",
        "Para cada um dos três parlamentares encontrados acima, liste qual foi o valor empenhado (coluna _'Valor empenhado'_) para as emendas por eles apresentadas."
      ]
    },
    {
      "cell_type": "code",
      "execution_count": 65,
      "metadata": {
        "colab": {
          "base_uri": "https://localhost:8080/"
        },
        "id": "BLpV5-JnW8NZ",
        "outputId": "7517a233-2a2d-4525-b65a-6cd8e78520e1"
      },
      "outputs": [
        {
          "output_type": "stream",
          "name": "stdout",
          "text": [
            "O Valor empenhado para as emendas destes parlamentares foram:\n",
            "Autor da emenda\n",
            "CELSO MALDANER      32103297.00\n",
            "FLAVIO BOLSONARO    55004741.24\n",
            "MAJOR VITOR HUGO    32103146.93\n",
            "Name: Valor empenhado, dtype: float64\n"
          ]
        }
      ],
      "source": [
        "emendas_top_3_parlamentares = emendas_df[emendas['Autor da emenda'].isin(top_3_parlamentares.index)]\n",
        "valor_empenhado = emendas_top_3_parlamentares.groupby('Autor da emenda')['Valor empenhado'].sum()\n",
        "\n",
        "print(\"O Valor empenhado para as emendas destes parlamentares foram:\")\n",
        "print(valor_empenhado)\n"
      ]
    },
    {
      "cell_type": "markdown",
      "metadata": {
        "id": "FcP-UKZ8W8NZ"
      },
      "source": [
        "### Questão 4 (3 pontos)\n",
        "Encontre as cinco localidades (coluna _'Localidade do gasto'_) que receberam os maiores valores pagos (soma da coluna _'Valor pago'_).\n",
        "\n",
        "**Dica**: Use <font color='blue'>groupby</font> com redução de soma e ordene o resultado em ordem decrescente."
      ]
    },
    {
      "cell_type": "code",
      "execution_count": 68,
      "metadata": {
        "colab": {
          "base_uri": "https://localhost:8080/"
        },
        "id": "sXsfjJSNW8NZ",
        "outputId": "8585d5d9-2dab-4658-897b-de35d169f4ad"
      },
      "outputs": [
        {
          "output_type": "stream",
          "name": "stdout",
          "text": [
            "Localidade do gasto\n",
            "SÃO PAULO (UF)            1.888881e+09\n",
            "MINAS GERAIS (UF)         1.590244e+09\n",
            "MÚLTIPLO                  1.223649e+09\n",
            "BAHIA (UF)                1.211544e+09\n",
            "RIO GRANDE DO SUL (UF)    9.745816e+08\n",
            "Name: Valor pago, dtype: float64\n"
          ]
        }
      ],
      "source": [
        "local_gasto = emendas.groupby('Localidade do gasto')['Valor pago'].sum().sort_values(ascending=False).head(5)\n",
        "\n",
        "print(local_gasto)"
      ]
    }
  ],
  "metadata": {
    "kernelspec": {
      "display_name": "Python 3 (ipykernel)",
      "language": "python",
      "name": "python3"
    },
    "language_info": {
      "codemirror_mode": {
        "name": "ipython",
        "version": 3
      },
      "file_extension": ".py",
      "mimetype": "text/x-python",
      "name": "python",
      "nbconvert_exporter": "python",
      "pygments_lexer": "ipython3",
      "version": "3.10.9"
    },
    "toc": {
      "base_numbering": 1,
      "nav_menu": {},
      "number_sections": true,
      "sideBar": true,
      "skip_h1_title": false,
      "title_cell": "Table of Contents",
      "title_sidebar": "Contents",
      "toc_cell": false,
      "toc_position": {},
      "toc_section_display": true,
      "toc_window_display": false
    },
    "colab": {
      "provenance": [],
      "include_colab_link": true
    }
  },
  "nbformat": 4,
  "nbformat_minor": 0
}