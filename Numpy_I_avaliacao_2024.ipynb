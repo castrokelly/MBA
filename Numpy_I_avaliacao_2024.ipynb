{
  "cells": [
    {
      "cell_type": "markdown",
      "metadata": {
        "id": "view-in-github",
        "colab_type": "text"
      },
      "source": [
        "<a href=\"https://colab.research.google.com/github/castrokelly/MBA/blob/main/Numpy_I_avaliacao_2024.ipynb\" target=\"_parent\"><img src=\"https://colab.research.google.com/assets/colab-badge.svg\" alt=\"Open In Colab\"/></a>"
      ]
    },
    {
      "cell_type": "markdown",
      "metadata": {
        "id": "LOZB2DoGlq9d"
      },
      "source": [
        "# <span style=\"color:blue\"> MBA em Ciência de Dados</span>\n",
        "# <span style=\"color:blue\">Programação para Ciência de Dados</span>\n",
        "\n",
        "## <span style=\"color:blue\">Numpy Parte I - Avaliação</span>\n",
        "**Material Produzido por Luis Gustavo Nonato**<br>\n",
        "**Cemeai - ICMC/USP São Carlos**"
      ]
    },
    {
      "cell_type": "markdown",
      "metadata": {
        "id": "d6Gco_qwlq9f"
      },
      "source": [
        "## <font color='red'> As respostas da avaliação devem ser inseridas no moodle </font>"
      ]
    },
    {
      "cell_type": "code",
      "execution_count": 1,
      "metadata": {
        "id": "2NILoSaYlq9f"
      },
      "outputs": [],
      "source": [
        "import numpy as np"
      ]
    },
    {
      "cell_type": "markdown",
      "metadata": {
        "id": "DZes2ujblq9f"
      },
      "source": [
        "### Exercício 1)\n",
        "Considere o array `X` como descrito abaixo:\n",
        "```python\n",
        "[[0  1  2  3  4]\n",
        " [5  6  7  8  9]\n",
        " [10 11 12 13 14]\n",
        " [15 16 17 18 19]]\n",
        "```\n",
        "Qual dos códigos abaixo imprime um array com os elementos 13, 18 e 6 a partir de `X`?\n",
        "\n",
        "a) print(X[1,2,3])<br>\n",
        "b) print(X[[2,3,1],[3,3,1]]) -----------> MINHA RESPOSTA</font> <br>\n",
        "c) print(X[:,[2,3,1])<br>\n",
        "d) print([1,2,3],:)"
      ]
    },
    {
      "cell_type": "code",
      "source": [
        "import numpy as np\n",
        "\n",
        "X = np.array([[0,  1,  2,  3,  4],\n",
        "              [5,  6,  7,  8,  9],\n",
        "              [10, 11, 12, 13, 14],\n",
        "              [15, 16, 17, 18, 19]])\n",
        "\n",
        "# Acessar os elementos específicos\n",
        "result = X[[2, 3, 1], [3, 3, 1]]\n",
        "\n",
        "print(result)\n"
      ],
      "metadata": {
        "colab": {
          "base_uri": "https://localhost:8080/"
        },
        "id": "7QOwrWNBoGaJ",
        "outputId": "c55cf384-60d6-4b1b-dd8d-e78143646fb4"
      },
      "execution_count": 12,
      "outputs": [
        {
          "output_type": "stream",
          "name": "stdout",
          "text": [
            "[13 18  6]\n"
          ]
        }
      ]
    },
    {
      "cell_type": "markdown",
      "metadata": {
        "id": "jfsWWgq5lq9g"
      },
      "source": [
        "### Exercício 2)\n",
        "Considerando o array `X` do exercício 1). Qual alternativa descreve corretamente a construção de `Y` no código abaixo?\n",
        "```python\n",
        "Y = X[1:3,[0,2,3]]\n",
        "```\n",
        "\n",
        "a) `Y` é uma _cópia_ dos elementos das linhas 1 e 2 e colunas 0,2 e 3 de `X`<br>\n",
        "b) `Y` é uma _view_ dos elementos das linhas 1 e 2 e colunas 0,2 e 3 de `X` ------------> MINHA RESPOSTA<br>\n",
        "c) `Y` é uma _cópia_ dos elementos das linhas 1,2 e 3 e colunas 0,2 e 3 de `X`<br>\n",
        "d) `Y` é uma _view_ dos elementos das linhas 1,2 e 3 e colunas 0,2 e 3 de `X`"
      ]
    },
    {
      "cell_type": "code",
      "execution_count": 3,
      "metadata": {
        "id": "Ee79y3yglq9g"
      },
      "outputs": [],
      "source": [
        "Y = X[1:3,[0,2,3]]\n"
      ]
    },
    {
      "cell_type": "markdown",
      "metadata": {
        "id": "9w4O50CAlq9g"
      },
      "source": [
        "### Exercício 3)\n",
        "Considere o numpy array `A` abaixo:\n",
        "```python\n",
        "[[ 2 19 16  1 12  7]\n",
        " [ 5 19 18 17  9  3]\n",
        " [16  4 18 11  4  2]\n",
        " [ 6  2 18 14 15 15]\n",
        " [ 4  8  1 14 19 13]]\n",
        "```\n",
        "Qual das alternativas abaixo corresponde ao número de dimensões (ndim), a forma (shape) e ao número de elementos (size) no array, respectivamente?\n",
        "\n",
        "a) (5, 6) 2 2<br>\n",
        "b) 2 (5, 6) 2<br>\n",
        "c) (5, 6) 2 30<br>\n",
        "d) 2 (5, 6) 30 -------> MINHA RESPOTA"
      ]
    },
    {
      "cell_type": "code",
      "execution_count": 4,
      "metadata": {
        "id": "ZJ4jDWK6lq9g"
      },
      "outputs": [],
      "source": [
        "A = np.array([[ 2, 19, 16,  1, 12,  7],\n",
        " [ 5, 19, 18, 17,  9,  3],\n",
        " [16,  4, 18, 11,  4,  2],\n",
        " [ 6,  2, 18, 14, 15, 15],\n",
        " [ 4,  8,  1, 14, 19, 13]])\n"
      ]
    },
    {
      "cell_type": "markdown",
      "source": [
        "Número de dimensões (ndim): Este é o número de índices necessários para selecionar um elemento do array. No caso de A, que é um array 2D (duas dimensões), o ndim seria 2.</br>\n",
        "</br>\n",
        "Forma (shape): A forma de um array é uma tupla que indica o número de elementos em cada dimensão. Para A, que tem 5 linhas e 6 colunas, o shape seria (5, 6).</br>\n",
        "</br>\n",
        "Número de elementos (size): Este é o total de elementos no array. Para A, que tem 5 linhas e 6 colunas, o size seria 5 * 6 = 30.</br>\n",
        "Portanto, a alternativa correta que descreve o número de dimensões, a forma e o número de elementos no array A, respectivamente, é:\n",
        "\n",
        "c. 2 (5, 6) 30"
      ],
      "metadata": {
        "id": "xlh2bjgnpxBb"
      }
    },
    {
      "cell_type": "markdown",
      "metadata": {
        "id": "CyyTI_EWlq9g"
      },
      "source": [
        "### Exercício 4)\n",
        "Considere o numpy array `A` do exercício 3). Escreva um código para criar uma máscara para selecionar todos os elementos pares do array e armazena-los em um novo array *unidimensional* `B`. O resultado do comando\n",
        "```python\n",
        "print(B.size)\n",
        "```\n",
        "será:<br>\n",
        "a) 13<br>\n",
        "b) 15<br>\n",
        "c) 16<br>\n",
        "d) 17"
      ]
    },
    {
      "cell_type": "code",
      "execution_count": 13,
      "metadata": {
        "colab": {
          "base_uri": "https://localhost:8080/"
        },
        "id": "a9IAc8B-lq9g",
        "outputId": "d5497521-3571-4ab8-df77-70b31af25075"
      },
      "outputs": [
        {
          "output_type": "execute_result",
          "data": {
            "text/plain": [
              "16"
            ]
          },
          "metadata": {},
          "execution_count": 13
        }
      ],
      "source": [
        "import numpy as np\n",
        "\n",
        "# Definindo o numpy array A\n",
        "A = np.array([[2, 19, 16,  1, 12,  7],\n",
        "              [5, 19, 18, 17,  9,  3],\n",
        "              [16,  4, 18, 11,  4,  2],\n",
        "              [6,  2, 18, 14, 15, 15],\n",
        "              [4,  8,  1, 14, 19, 13]])\n",
        "\n",
        "# Criando uma máscara para selecionar todos os elementos pares de A\n",
        "mask = A % 2 == 0\n",
        "\n",
        "# Usando a máscara para selecionar os elementos e armazenando em B\n",
        "B = A[mask]\n",
        "\n",
        "# Imprimindo o tamanho de B\n",
        "B.size\n"
      ]
    },
    {
      "cell_type": "markdown",
      "metadata": {
        "id": "IVVvAQknlq9g"
      },
      "source": [
        "### Exercício 5)\n",
        "Ainda considerando o array `A` do exercício 3), que alternativa melhor explica o que o código abaixo está realizando:\n",
        "```python\n",
        "l_mask = [(i%2!=0) and (j%2!=0) for i in range(A.shape[0]) for j in range(A.shape[1])]\n",
        "mask = np.array(l_mask).reshape(A.shape)\n",
        "A[mask] = -1\n",
        "```\n",
        "a) insere elementos -1 nas linhas e colunas ímpares de `A` utilizando uma máscara booleana<br>\n",
        "b) insere elementos -1 nas posições com índices ímpares (linha e coluna) de `A` utilizando uma máscara booleana  -------> MINHA RESPOSTA<br>\n",
        "c) insere elementos -1 nas linhas com índices ímpares e colunas pares de `A` utilizando uma máscara booleana<br>\n",
        "d) troca os elementos impares da matriz por -1 utilizando uma máscara booleana"
      ]
    },
    {
      "cell_type": "code",
      "execution_count": 6,
      "metadata": {
        "colab": {
          "base_uri": "https://localhost:8080/"
        },
        "id": "Nz5XORmklq9h",
        "outputId": "c968d08d-4fb2-458e-ad37-b3a62254eabf"
      },
      "outputs": [
        {
          "output_type": "stream",
          "name": "stdout",
          "text": [
            "[[ 2 19 16  1 12  7]\n",
            " [ 5 -1 18 -1  9 -1]\n",
            " [16  4 18 11  4  2]\n",
            " [ 6 -1 18 -1 15 -1]\n",
            " [ 4  8  1 14 19 13]]\n"
          ]
        }
      ],
      "source": [
        "l_mask = [(i%2!=0) and (j%2!=0) for i in range(A.shape[0]) for j in range(A.shape[1])]\n",
        "mask = np.array(l_mask).reshape(A.shape)\n",
        "A[mask] = -1\n",
        "print(A)"
      ]
    }
  ],
  "metadata": {
    "kernelspec": {
      "display_name": "Python 3 (ipykernel)",
      "language": "python",
      "name": "python3"
    },
    "language_info": {
      "codemirror_mode": {
        "name": "ipython",
        "version": 3
      },
      "file_extension": ".py",
      "mimetype": "text/x-python",
      "name": "python",
      "nbconvert_exporter": "python",
      "pygments_lexer": "ipython3",
      "version": "3.10.9"
    },
    "colab": {
      "provenance": [],
      "include_colab_link": true
    }
  },
  "nbformat": 4,
  "nbformat_minor": 0
}