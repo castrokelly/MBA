{
  "cells": [
    {
      "cell_type": "markdown",
      "metadata": {
        "id": "view-in-github",
        "colab_type": "text"
      },
      "source": [
        "<a href=\"https://colab.research.google.com/github/castrokelly/MBA/blob/main/Python_II_avaliacao_2024.ipynb\" target=\"_parent\"><img src=\"https://colab.research.google.com/assets/colab-badge.svg\" alt=\"Open In Colab\"/></a>"
      ]
    },
    {
      "cell_type": "markdown",
      "metadata": {
        "id": "6funjacwNy-q"
      },
      "source": [
        "# <span style=\"color:blue\"> MBA em Ciência de Dados</span>\n",
        "# <span style=\"color:blue\">Programação para Ciência de Dados</span>\n",
        "\n",
        "## <span style=\"color:blue\">Avaliação Python Parte II</span>\n",
        "**Material Produzido por Luis Gustavo Nonato**<br>\n",
        "**Cemeai - ICMC/USP São Carlos**"
      ]
    },
    {
      "cell_type": "markdown",
      "metadata": {
        "id": "cutfp5OANy-y"
      },
      "source": [
        "<font color='red'> As respostas devem ser fornecidas no Moodle. O notebook é apenas para a implementação dos códigos que fornecerão as respostas</font>"
      ]
    },
    {
      "cell_type": "markdown",
      "metadata": {
        "id": "fXbLVfzhNy-3"
      },
      "source": [
        "### Exercício 1)\n",
        "Considere a lista `mat` abaixo, onde cada elemento é também uma lista. Cada lista correspondendo a um elemento de `mat` tem como primeiro elemento o cargo, segundo elemento o nível de formação e terceiro elemento o nome de um funcionário.\n",
        "\n",
        "Utilize comprehension para gerar uma lista chamada `nomes` que contenha o nome dos funcionários que tem cargo de supervisor.\n",
        "Dentre as opções abaixo, qual implementa a solução corretamente?\n",
        "\n",
        "a) nomes = [s for s in mat if s == 'supervisor']<br>\n",
        "b) nomes = [s[1] for s in mat if s[2] == 'supervisor']<br>\n",
        "c) nomes = [s[2] for s in mat if s[0] == 'supervisor' ]<br>\n",
        "d) nomes = [s[0] for s in mat if s != 'supervisor'] --> Minha resposta"
      ]
    },
    {
      "cell_type": "code",
      "execution_count": null,
      "metadata": {
        "id": "WgBIqbVINy-4"
      },
      "outputs": [],
      "source": [
        "mat = [\n",
        "    ['supervisor', 'tecnico', 'Carlos'],\n",
        "    ['assistente', 'tecnico', 'Lucas'],\n",
        "    ['gerente', 'doutor', 'Jessica'],\n",
        "    ['especialista', 'mestre', 'Alberto'],\n",
        "    ['gerente', 'graduado', 'Ricardo'],\n",
        "    ['CEO', 'graduado', 'Fernando'],\n",
        "    ['gerente', 'mestre', 'Jose'],\n",
        "    ['CEO', 'graduado', 'Joao'],\n",
        "    ['supervisor', 'graduado', 'Fernanda'],\n",
        "    ['gerente', 'doutor', 'Marcos'],\n",
        "    ['assistente', 'tecnico', 'Luis']\n",
        "]"
      ]
    },
    {
      "cell_type": "code",
      "source": [
        "nomes = [s[2] for s in mat if s[0] == 'supervisor' ]\n",
        "\n",
        "print(nomes)\n"
      ],
      "metadata": {
        "colab": {
          "base_uri": "https://localhost:8080/"
        },
        "id": "sdIgVsUVpLZC",
        "outputId": "c42b5706-346e-4eec-d69a-3ae7af8f16fc"
      },
      "execution_count": null,
      "outputs": [
        {
          "output_type": "stream",
          "name": "stdout",
          "text": [
            "['Carlos', 'Fernanda']\n"
          ]
        }
      ]
    },
    {
      "cell_type": "markdown",
      "metadata": {
        "id": "qNf3LdUGNy-7"
      },
      "source": [
        "### Exercício 2)\n",
        "Ainda utilizando a lista `mat` do exercício anterior, crie um dicionário chamado `dc` onde cada elemento é da forma `formacao:[cargo1,cargo2,...]`, ou seja, as chaves são as _formações_ e os valores uma lista com os cargos assumidos pelas pessoas que tem a correspondente formação. As listas associadas a cada chave não devem conter valores repetidos. A formação com a maior lista de cargos é:\n",
        "\n",
        "a) graduado --> Minha resposta<br>\n",
        "b) doutor<br>\n",
        "c) tecnico<br>\n",
        "d) mestre"
      ]
    },
    {
      "cell_type": "code",
      "execution_count": null,
      "metadata": {
        "id": "kMvAVc18Ny-9",
        "outputId": "1a42bd3b-711a-4ce5-9e11-6176d01af80e",
        "colab": {
          "base_uri": "https://localhost:8080/"
        }
      },
      "outputs": [
        {
          "output_type": "execute_result",
          "data": {
            "text/plain": [
              "('graduado',\n",
              " {'tecnico': ['supervisor', 'assistente'],\n",
              "  'doutor': ['gerente'],\n",
              "  'mestre': ['especialista', 'gerente'],\n",
              "  'graduado': ['gerente', 'CEO', 'supervisor']})"
            ]
          },
          "metadata": {},
          "execution_count": 9
        }
      ],
      "source": [
        "dc = {}\n",
        "for cargo, formacao, _ in mat:\n",
        "    if formacao not in dc:\n",
        "        dc[formacao] = [cargo]\n",
        "    else:\n",
        "        if cargo not in dc[formacao]:\n",
        "            dc[formacao].append(cargo)\n",
        "\n",
        "# Encontrar a formação com a maior lista de cargos\n",
        "max_formacao = max(dc, key=lambda k: len(dc[k]))\n",
        "\n",
        "max_formacao, dc"
      ]
    },
    {
      "cell_type": "markdown",
      "metadata": {
        "id": "xlNmh7NuNy--"
      },
      "source": [
        "### Exercício 3)\n",
        "A função `variacoes` descrita abaixo\n",
        "```python\n",
        "def variacoes(s):\n",
        "    dc = {______________}\n",
        "    return(dc)\n",
        "```\n",
        "recebe uma 'string' como parâmetro e gera um dicionário como resposta, onde as chaves do dicionário são todas as variações da string com um caracter removido, colocando a string original como valor associado a cada chave . Por exemplo:\n",
        "```python\n",
        "print(variacoes('casa'))\n",
        "```\n",
        "deve resultar em:\n",
        "```python\n",
        "{'asa': 'casa', 'csa': 'casa', 'caa': 'casa', 'cas': 'casa'}\n",
        "```\n",
        "\n",
        "Qual das alternativas abaixo completa corretamente a função?\n",
        "\n",
        "a) {s[0]+s[1] for s in range(len(s))}<br>\n",
        "b) {s[:i]+s[i+1:]:i for i in s}<br>\n",
        "c) {s[0:i]+s[i+1:]:s for i in len(s)}<br>\n",
        "d) {s[0:i]+s[i+1:]:s for i in range(len(s))}"
      ]
    },
    {
      "cell_type": "code",
      "execution_count": null,
      "metadata": {
        "colab": {
          "base_uri": "https://localhost:8080/"
        },
        "id": "QFfqmQAWNy-_",
        "outputId": "e41ad68b-5c96-42d1-dfca-286bb93c8d19"
      },
      "outputs": [
        {
          "output_type": "stream",
          "name": "stdout",
          "text": [
            "{'asa': 'casa', 'csa': 'casa', 'caa': 'casa', 'cas': 'casa'}\n"
          ]
        }
      ],
      "source": [
        "def variacoes(s):\n",
        "    dc = {s[0:i]+s[i+1:]:s for i in range(len(s))}\n",
        "    return(dc)\n",
        "\n",
        "print(variacoes('casa'))"
      ]
    },
    {
      "cell_type": "markdown",
      "metadata": {
        "id": "2C36zssaNy_B"
      },
      "source": [
        "### Exercício 4)\n",
        "O método <font color='blue'>sorted</font> assume como atributos uma sequência e um parâmetro `key` que pode ser uma função que será aplicada aos elementos da sequência a fim de ordená-los de acordo com os valores resultantes da função (veja lista de exercícios da aula).\n",
        "\n",
        "Utilize uma função <font color='blue'>lambda</font> como parâmetro `key` no método <font color='blue'>sorted</font> para ordenar uma lista cujos elementos são numéricos, de modo que cada elemento seja ordenado como se tivesse o valor $x^2-x$, onde $x$ corresponde a cada elemento da lista.\n",
        "\n",
        "O resultado da ordenação quando aplicada à lista\n",
        "```python\n",
        "[0.11, -0.11, 0.4, 0.11, -0.57, -0.05, 0.85, -0.27, -0.07, -0.78, 0.13, 0.36]\n",
        "```\n",
        "será:\n",
        "\n",
        "a) [-0.78, -0.57, -0.27, -0.11, -0.07, -0.05, 0.11, 0.11, 0.4, 0.85, 0.13, 0.36]<br>\n",
        "b) [0.11, 0.11, -0.27, -0.78, -0.11, -0.07, 0.13, 0.36, -0.05,  -0.57, 0.4, 0.85]<br>\n",
        "c) [0.4, 0.36, 0.85, 0.13, 0.11, 0.11, -0.05, -0.07, -0.11, -0.27, -0.57, -0.78] --> Minha resposta<br>\n",
        "d) [-0.05, 0.11, -0.07, 0.13, -0.11, 0.11, 0.36, -0.27, 0.4, -0.57, -0.78, 0.85]"
      ]
    },
    {
      "cell_type": "code",
      "execution_count": null,
      "metadata": {
        "id": "7F-kuDkuNy_C"
      },
      "outputs": [],
      "source": [
        "l = [0.11, -0.11, 0.4, 0.11, -0.57, -0.05, 0.85, -0.27, -0.07, -0.78, 0.13, 0.36]"
      ]
    },
    {
      "cell_type": "code",
      "source": [
        "lista_ordenada = sorted(l, key=lambda x: x**2 - x)\n",
        "\n",
        "lista_ordenada"
      ],
      "metadata": {
        "colab": {
          "base_uri": "https://localhost:8080/"
        },
        "id": "fipdSzYCssJ3",
        "outputId": "9473c334-ab61-416e-a78c-4d35a9d1b497"
      },
      "execution_count": null,
      "outputs": [
        {
          "output_type": "execute_result",
          "data": {
            "text/plain": [
              "[0.4, 0.36, 0.85, 0.13, 0.11, 0.11, -0.05, -0.07, -0.11, -0.27, -0.57, -0.78]"
            ]
          },
          "metadata": {},
          "execution_count": 17
        }
      ]
    },
    {
      "cell_type": "markdown",
      "metadata": {
        "id": "S2H0JLg1Ny_E"
      },
      "source": [
        "### Exercício 5)\n",
        "Construa uma função `concatena_dicionarios` que recebe dois dicionários como atributos e concatena ambos em um único dicionário contendo as chaves e os valores dos dois dicionários. Se a chave se repete em ambos, mantenha o maior valor associado a chave . Por exemplo, dados os dicionários:\n",
        "```python\n",
        "dc1 = {1: 5479, 5: 1479, 7: 1549, 9: 1547}\n",
        "dc2 = {5: 2647, 2: 9647, 1: 9247}\n",
        "```\n",
        "a função deve resultar no dicionário\n",
        "```python\n",
        "{1: 9247, 7: 1549, 5: 2647, 9: 1547, 2: 9647}\n",
        "```\n",
        "Considerando os dicionários abaixo como entrada para a função:\n",
        "```python\n",
        "dc1 = {4: 10153, 18: 41118, 2: 101515, 15: 354, 7: 4145, 8: 10316, 3: 121016, 11: 15122, 12: 16158, 10: 4188, 14: 15318, 5: 11711, 16: 181412}\n",
        "\n",
        "dc2 = {19: 16619, 4: 11310, 18: 171112, 11: 171817, 12: 171911, 6: 4195, 5: 171910, 3: 10310, 16: 191916, 10: 111619, 17: 51016}\n",
        "```\n",
        "O par `chave:valor` com o maior valor no dicionário concatenado será:\n",
        "\n",
        "a) 12: 171911<br>\n",
        "b) 5: 171910<br>\n",
        "c) 11: 171817<br>\n",
        "d) 16: 191916\n",
        "\n",
        "**Dica:** Crie uma lista como as tuplas `(chave,valor)` do dicionário concatenado e ordene os elementos da lista com base no `valor`."
      ]
    },
    {
      "cell_type": "code",
      "execution_count": null,
      "metadata": {
        "colab": {
          "base_uri": "https://localhost:8080/"
        },
        "id": "-isO4J3VNy_F",
        "outputId": "351b1e7e-7d6f-4452-ec5b-c2c9bc44d042"
      },
      "outputs": [
        {
          "output_type": "execute_result",
          "data": {
            "text/plain": [
              "(16, 191916)"
            ]
          },
          "metadata": {},
          "execution_count": 18
        }
      ],
      "source": [
        "def concatena_dicionarios(dc1, dc2):\n",
        "    # Concatenando os dicionários, mantendo o maior valor para chaves repetidas\n",
        "    dc_concatenado = dc1.copy()  # Começa com uma cópia do primeiro dicionário\n",
        "    for chave, valor in dc2.items():\n",
        "        if chave in dc_concatenado:\n",
        "            # Se a chave já existe, mantém o maior valor\n",
        "            dc_concatenado[chave] = max(valor, dc_concatenado[chave])\n",
        "        else:\n",
        "            # Se a chave não existe, adiciona ao dicionário\n",
        "            dc_concatenado[chave] = valor\n",
        "    return dc_concatenado\n",
        "\n",
        "# Dicionários fornecidos\n",
        "dc1 = {4: 10153, 18: 41118, 2: 101515, 15: 354, 7: 4145, 8: 10316, 3: 121016, 11: 15122, 12: 16158, 10: 4188, 14: 15318, 5: 11711, 16: 181412}\n",
        "dc2 = {19: 16619, 4: 11310, 18: 171112, 11: 171817, 12: 171911, 6: 4195, 5: 171910, 3: 10310, 16: 191916, 10: 111619, 17: 51016}\n",
        "\n",
        "# Concatenando e encontrando o par chave:valor com o maior valor\n",
        "dc_concatenado = concatena_dicionarios(dc1, dc2)\n",
        "# Ordenando os elementos do dicionário concatenado com base no valor\n",
        "par_maior_valor = max(dc_concatenado.items(), key=lambda x: x[1])\n",
        "\n",
        "par_maior_valor\n"
      ]
    }
  ],
  "metadata": {
    "colab": {
      "provenance": [],
      "include_colab_link": true
    },
    "kernelspec": {
      "display_name": "Python 3",
      "language": "python",
      "name": "python3"
    },
    "language_info": {
      "codemirror_mode": {
        "name": "ipython",
        "version": 3
      },
      "file_extension": ".py",
      "mimetype": "text/x-python",
      "name": "python",
      "nbconvert_exporter": "python",
      "pygments_lexer": "ipython3",
      "version": "3.8.8"
    }
  },
  "nbformat": 4,
  "nbformat_minor": 0
}