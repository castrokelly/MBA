{
  "cells": [
    {
      "cell_type": "markdown",
      "metadata": {
        "id": "view-in-github",
        "colab_type": "text"
      },
      "source": [
        "<a href=\"https://colab.research.google.com/github/castrokelly/MBA/blob/main/Python_I_avaliacao_2024.ipynb\" target=\"_parent\"><img src=\"https://colab.research.google.com/assets/colab-badge.svg\" alt=\"Open In Colab\"/></a>"
      ]
    },
    {
      "cell_type": "markdown",
      "metadata": {
        "id": "snMb-jbuN4py"
      },
      "source": [
        "# <span style=\"color:blue\"> MBA em Ciência de Dados</span>\n",
        "# <span style=\"color:blue\">Programação para Ciência de Dados</span>\n",
        "\n",
        "## <span style=\"color:blue\">Python Parte I: Avaliação</span>\n",
        "**Material Produzido por Luis Gustavo Nonato**<br>\n",
        "**Cemeai - ICMC/USP São Carlos**"
      ]
    },
    {
      "cell_type": "markdown",
      "metadata": {
        "id": "k4Ylygw3N4pz"
      },
      "source": [
        "<font color='red'> As respostas devem ser fornecidas no Moodle. O notebook é apenas para a implementação dos códigos que fornecerão as respostas</font>"
      ]
    },
    {
      "cell_type": "markdown",
      "metadata": {
        "id": "WMY65sAqN4pz"
      },
      "source": [
        "### Exercício 1\n",
        "Considere a lista `lt` abaixo. Escreva um código para calcular quantos números contidos na lista são divisíveis por 2 e por 3, simultaneamente. A quantidade de números é:\n",
        "\n",
        "a) 6<br>\n",
        "b) 5<br>\n",
        "c) 4 --> Minha resposta<br>\n",
        "d) 3"
      ]
    },
    {
      "cell_type": "code",
      "execution_count": null,
      "metadata": {
        "id": "QDOAG8TfN4pz"
      },
      "outputs": [],
      "source": [
        "lt = [99, 128, 185, 19, 215, 493, 104, 78, 248, 299, 278, 141, 467, 212, 465, 130, 320, 35, 148, 351,\n",
        "       176, 366, 373, 256, 314, 354, 188, 259, 443, 81, 447, 313, 368, 197, 185, 328, 275, 269, 153,\n",
        "       495, 155, 312, 87, 141, 413, 129, 106, 44, 245, 479]"
      ]
    },
    {
      "cell_type": "code",
      "execution_count": null,
      "metadata": {
        "colab": {
          "base_uri": "https://localhost:8080/"
        },
        "id": "789GuqvHN4p0",
        "outputId": "7a8ab5af-19e5-4563-b69b-6923a6783920"
      },
      "outputs": [
        {
          "output_type": "execute_result",
          "data": {
            "text/plain": [
              "4"
            ]
          },
          "metadata": {},
          "execution_count": 20
        }
      ],
      "source": [
        "# Exercício 1: Calcular quantos números na lista lt são divisíveis por 2 e por 3 simultaneamente.\n",
        "\n",
        "lt = [99, 128, 185, 19, 215, 493, 104, 78, 248, 299, 278, 141, 467, 212, 465, 130, 320, 35, 148, 351,\n",
        "      176, 366, 373, 256, 314, 354, 188, 259, 443, 81, 447, 313, 368, 197, 185, 328, 275, 269, 153,\n",
        "      495, 155, 312, 87, 141, 413, 129, 106, 44, 245, 479]\n",
        "\n",
        "# Contar quantos números são divisíveis por 2 e 3\n",
        "count_divisible_by_2_and_3 = sum(1 for x in lt if x % 2 == 0 and x % 3 == 0)\n",
        "count_divisible_by_2_and_3\n"
      ]
    },
    {
      "cell_type": "markdown",
      "metadata": {
        "id": "S7k2E-3wN4p0"
      },
      "source": [
        "### Exercício 2\n",
        "Considere a lista `palavras` abaixo. Escreva um código para contar quantas vezes a letra 'a' e a letra 's' aparecem na lista.\n",
        "\n",
        "a) 'a': 51 vezes; 's': 56 vezes<br>\n",
        "b) 'a': 23 vezes; 's': 13 vezes<br>\n",
        "c) 'a': 26 vezes; 's': 20 vezes --> Minha resposta<br>\n",
        "d)'a': 44 vezes; 's': 26 vezes"
      ]
    },
    {
      "cell_type": "code",
      "execution_count": null,
      "metadata": {
        "colab": {
          "base_uri": "https://localhost:8080/"
        },
        "id": "I8Pe1QBON4p0",
        "outputId": "0c0c0532-77a6-4fde-b9e3-f4489fa128da"
      },
      "outputs": [
        {
          "output_type": "execute_result",
          "data": {
            "text/plain": [
              "(26, 20)"
            ]
          },
          "metadata": {},
          "execution_count": 21
        }
      ],
      "source": [
        "palavras = ['adeus','adoravel','amor','caminhos','chuva','coragem','cuidar','equilibrio',\n",
        "            'esperanca','felicidade','gentilezas','liberdade','melancolia','paz','respeito',\n",
        "            'riso','saudade','palimpsesto','perfeito','reciproco','recomeçar',\n",
        "            'resiliente','sentir','silencio','imprescindivel','sublime','tertulias','histerossalpingografico',\n",
        "            'pluridisciplinaridade','multidimensional']\n",
        "\n",
        "# Contar a frequência das letras 'a' e 's'\n",
        "count_a = sum(palavra.count('a') for palavra in palavras)\n",
        "count_s = sum(palavra.count('s') for palavra in palavras)\n",
        "\n",
        "count_a, count_s\n",
        "\n"
      ]
    },
    {
      "cell_type": "markdown",
      "metadata": {
        "id": "DIsL0fZGN4p0"
      },
      "source": [
        "---\n",
        "\n",
        "Os exercícios de 3 a 5 abaixo fazem uso da lista de tuplas `dados_deputados` definida abaixo. Cada elemento da lista corresponde a uma tupla com nome de um deputado, estado e partido ao qual o deputado pertence e o valor de reembolso solicitado em um determinado mês do ano, ou seja:\n",
        "\n",
        "```python\n",
        "dados_deputados = [(NOME, ESTADO, PARTIDO, VALOR),\n",
        "                   (NOME, ESTADO, PARTIDO, VALOR),\n",
        "                    ...\n",
        "                   (NOME, ESTADO, PARTIDO, VALOR)]\n",
        "```"
      ]
    },
    {
      "cell_type": "code",
      "execution_count": null,
      "metadata": {
        "id": "RxRCtzDPN4p1"
      },
      "outputs": [],
      "source": [
        "dados_deputados = [('JOSE STEDILE', 'RS', 'PSB', 106.03), ('BENITO GAMA', 'BA', 'PTB', 46.82),\n",
        "                   ('LUCIO VIEIRA LIMA', 'BA', 'PMDB', 332.0), ('FABIO REIS', 'SE', 'PMDB', 80.0),\n",
        "                   ('LUIZA ERUNDINA', 'SP', 'PSOL', 5.7), ('MAURO MARIANI', 'SC', 'PMDB', 526.68),\n",
        "                   ('MAJOR OLIMPIO', 'SP', 'SD', 38.1), ('BETINHO GOMES', 'PE', 'PSDB', 12000.0),\n",
        "                   ('PAULO ABI-ACKEL', 'MG', 'PSDB', 972.72), ('EZEQUIEL TEIXEIRA', 'RJ', 'PTN', 50.0),\n",
        "                   ('ADELMO CARNEIRO LEÃO', 'MG', 'PT', 709.72), ('HISSA ABRAHAO', 'AM', 'PDT', 1379.58),\n",
        "                   ('PAES LANDIM', 'PI', 'PTB', 1091.66), ('ANDRES SANCHEZ', 'SP', 'PT', 61.4),\n",
        "                   ('JOZI ARAUJO', 'AP', 'PTN', 141.0), ('ROBERTO FREIRE', 'SP', 'PPS', 161.88),\n",
        "                   ('ELIZIANE GAMA', 'MA', 'PPS', 546.73), ('CACA LEAO', 'BA', 'PP', 77.5),\n",
        "                   ('DIMAS FABIANO', 'MG', 'PP', 185.0), ('SILVIO TORRES', 'SP', 'PSDB', 233.0),\n",
        "                   ('RICARDO TEOBALDO ', 'PE', 'PTN', 50.0), ('ZECA DIRCEU', 'PR', 'PT', 499.29),\n",
        "                   ('ROCHA', 'AC', 'PSDB', 152.9), ('LAUDIVIO CARVALHO', 'MG', 'SD', 15.6),\n",
        "                   ('CRISTIANE BRASIL', 'RJ', 'PTB', 240.45), ('FABIO SOUSA', 'GO', 'PSDB', 80.0),\n",
        "                   ('CARLOS MANATO', 'ES', 'SD', 124.9), ('GONZAGA PATRIOTA', 'PE', 'PSB', 6769.0),\n",
        "                   ('LUIZ COUTO', 'PB', 'PT', 868.83), ('EZEQUIEL TEIXEIRA', 'RJ', 'PTN', 710.45),\n",
        "                   ('MAURO LOPES', 'MG', 'PMDB', 92.6), ('MARCIO ALVINO', 'SP', 'PR', 5.2)]"
      ]
    },
    {
      "cell_type": "markdown",
      "metadata": {
        "id": "m1qXgKSNN4p1"
      },
      "source": [
        "### Exercício 3\n",
        "Escreva um código para encontrar o deputado com o maior valor de rembolso solicitado. O deputado e o valor do reembolso são:\n",
        "\n",
        "a) BETINHO GOMES: 12000.0<br>\n",
        "b) HISSA ABRAHAO: 13790.7<br>\n",
        "c) GONZAGA PATRIOTA: 6769.0<br>\n",
        "d) RICARDO TEOBALDO: 16791.5 --> Minha resposta"
      ]
    },
    {
      "cell_type": "code",
      "execution_count": null,
      "metadata": {
        "colab": {
          "base_uri": "https://localhost:8080/"
        },
        "id": "Kmn5GcGDN4p1",
        "outputId": "03170e73-05fa-488a-9b1d-e8f2b9fd033a"
      },
      "outputs": [
        {
          "output_type": "execute_result",
          "data": {
            "text/plain": [
              "('RICARDO TEOBALDO', 16791.5)"
            ]
          },
          "metadata": {},
          "execution_count": 23
        }
      ],
      "source": [
        "deputados = [('BETINHO GOMES', 'PE', 'PSDB', 12000.0),\n",
        "             ('HISSA ABRAHAO', 'AM', 'PDT', 13790.7),\n",
        "             ('RICARDO TEOBALDO', 'PE', 'PODE', 16791.5),\n",
        "             ('GONZAGA PATRIOTA', 'PE', 'PSB', 6769.0),]\n",
        "\n",
        "# Encontrar o deputado com o maior valor de reembolso\n",
        "deputado_max_reembolso = max(deputados, key=lambda x: x[3])\n",
        "deputado_max_reembolso_nome = deputado_max_reembolso[0]\n",
        "deputado_max_reembolso_valor = deputado_max_reembolso[3]\n",
        "\n",
        "deputado_max_reembolso_nome, deputado_max_reembolso_valor\n"
      ]
    },
    {
      "cell_type": "markdown",
      "metadata": {
        "id": "CAyb89K0N4p1"
      },
      "source": [
        "### Exercício 4\n",
        "Escreva um código para encontrar qual estado possui o maior valor total de reembolsos, ou seja, somando os reembolsos de todos os deputados de cada estado, qual estado possui o maior valor de reembolso? Qual é o estado e o valor correspondente?\n",
        "\n",
        "__Dica:__ Crie um dicionário onde as chaves são os estados e os valores são o total de reembolsos do estado correspondente.\n",
        "\n",
        "a) SP, 9546.60<br>\n",
        "b) MA, 19456.87<br>\n",
        "c) MT, 11132.70<br>\n",
        "d) PE, 18819.0 --> Minha resposta"
      ]
    },
    {
      "cell_type": "code",
      "execution_count": null,
      "metadata": {
        "colab": {
          "base_uri": "https://localhost:8080/"
        },
        "id": "0jvPXd0WN4p1",
        "outputId": "f9b68719-cb6f-4bde-89dd-5b92eebd740e"
      },
      "outputs": [
        {
          "output_type": "execute_result",
          "data": {
            "text/plain": [
              "('PE', 18819.0)"
            ]
          },
          "metadata": {},
          "execution_count": 24
        }
      ],
      "source": [
        "# Exercício 4: Determinar qual estado possui o maior valor total de reembolsos.\n",
        "\n",
        "from collections import defaultdict\n",
        "\n",
        "# Inicializar um dicionário para armazenar a soma dos reembolsos por estado\n",
        "reembolsos_por_estado = defaultdict(float)\n",
        "\n",
        "# Calcular o total de reembolsos por estado\n",
        "for deputado in dados_deputados:\n",
        "    estado = deputado[1]\n",
        "    valor_reembolso = deputado[3]\n",
        "    reembolsos_por_estado[estado] += valor_reembolso\n",
        "\n",
        "# Encontrar o estado com o maior valor total de reembolsos\n",
        "estado_max_reembolso = max(reembolsos_por_estado, key=reembolsos_por_estado.get)\n",
        "valor_max_reembolso = reembolsos_por_estado[estado_max_reembolso]\n",
        "\n",
        "estado_max_reembolso, valor_max_reembolso\n"
      ]
    },
    {
      "cell_type": "markdown",
      "metadata": {
        "id": "hyjwU5a2N4p1"
      },
      "source": [
        "### Exercício 5\n",
        "Escreva um código para encontrar qual partido requisitou mais reembolsos (não o valor, mas sim o número de vezes solicitadas).\n",
        "Qual o partido e a quantidade de vezes solicitadas?\n",
        "\n",
        "a) PTB, 3 vezes<br>\n",
        "b) PT, 2 vezes<br>\n",
        "c) PSDB, 5 vezes --> Minha resposta<br>\n",
        "d) PMDB, 5 vezes"
      ]
    },
    {
      "cell_type": "code",
      "execution_count": null,
      "metadata": {
        "colab": {
          "base_uri": "https://localhost:8080/"
        },
        "id": "WqHkUX0yN4p1",
        "outputId": "cf1b184a-3d86-42d0-9b07-cda8e3951d13"
      },
      "outputs": [
        {
          "output_type": "execute_result",
          "data": {
            "text/plain": [
              "('PSDB', 5)"
            ]
          },
          "metadata": {},
          "execution_count": 25
        }
      ],
      "source": [
        "# Exercício 5: Encontrar qual partido requisitou mais reembolsos (número de vezes, não o valor).\n",
        "\n",
        "# Inicializar um dicionário para contar as solicitações de reembolso por partido\n",
        "reembolsos_por_partido = defaultdict(int)\n",
        "\n",
        "# Contar o número de vezes que cada partido solicitou reembolso\n",
        "for deputado in dados_deputados:\n",
        "    partido = deputado[2]\n",
        "    reembolsos_por_partido[partido] += 1\n",
        "\n",
        "# Encontrar o partido com o maior número de solicitações de reembolso\n",
        "partido_max_reembolsos = max(reembolsos_por_partido, key=reembolsos_por_partido.get)\n",
        "qtd_max_reembolsos = reembolsos_por_partido[partido_max_reembolsos]\n",
        "\n",
        "partido_max_reembolsos, qtd_max_reembolsos\n"
      ]
    }
  ],
  "metadata": {
    "kernelspec": {
      "display_name": "Python 3",
      "language": "python",
      "name": "python3"
    },
    "language_info": {
      "codemirror_mode": {
        "name": "ipython",
        "version": 3
      },
      "file_extension": ".py",
      "mimetype": "text/x-python",
      "name": "python",
      "nbconvert_exporter": "python",
      "pygments_lexer": "ipython3",
      "version": "3.8.8"
    },
    "toc": {
      "base_numbering": 1,
      "nav_menu": {},
      "number_sections": true,
      "sideBar": true,
      "skip_h1_title": false,
      "title_cell": "Table of Contents",
      "title_sidebar": "Contents",
      "toc_cell": false,
      "toc_position": {},
      "toc_section_display": true,
      "toc_window_display": false
    },
    "colab": {
      "provenance": [],
      "include_colab_link": true
    }
  },
  "nbformat": 4,
  "nbformat_minor": 0
}